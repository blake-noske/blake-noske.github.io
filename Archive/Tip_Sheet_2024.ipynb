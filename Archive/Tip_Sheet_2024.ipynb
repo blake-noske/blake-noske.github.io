{
 "cells": [
  {
   "cell_type": "markdown",
   "id": "fea69eaa",
   "metadata": {},
   "source": [
    "# Tip Sheet 2024"
   ]
  },
  {
   "cell_type": "markdown",
   "id": "73074bec",
   "metadata": {},
   "source": [
    "**Author:** Blake Noske"
   ]
  },
  {
   "cell_type": "markdown",
   "id": "3c92728e",
   "metadata": {},
   "source": [
    "This report will detail predicted results for each round."
   ]
  },
  {
   "cell_type": "markdown",
   "id": "89f26154",
   "metadata": {},
   "source": [
    "My tipping strategy is:\n",
    "- if probability < 50%: bet \\$0\n",
    "- if probability is between 50% and 74.9%: bet \\$5\n",
    "- if probability is 75% and above: bet \\$10\n",
    "\n",
    "The total rolling winnings using this strategy is \\$19"
   ]
  },
  {
   "cell_type": "markdown",
   "id": "e9e38716",
   "metadata": {
    "jp-MarkdownHeadingCollapsed": true
   },
   "source": [
    "### Navigation:\n",
    "- [Round 24](#24)\n",
    "- [Round 23](#23)\n",
    "- [Round 22](#22)\n",
    "- [Round 21](#21)\n",
    "- [Round 20](#20)\n",
    "- [Round 19](#19)\n",
    "- [Round 18](#18)\n",
    "- [Round 17](#17)\n",
    "- [Round 16](#16)\n",
    "- [Round 15](#15)\n",
    "- [Round 14](#14)\n",
    "- [Round 13](#13)\n",
    "- [Round 12](#12)\n",
    "- [Round 11](#11)\n",
    "- [Round 10](#10)"
   ]
  },
  {
   "cell_type": "markdown",
   "id": "b6a748b3",
   "metadata": {},
   "source": [
    "## Round 13 <a class=\"anchor\" id=\"13\"></a>\n",
    "This weeks model accuracy based on model testing is **90.22%**"
   ]
  },
  {
   "cell_type": "markdown",
   "id": "09b95840",
   "metadata": {},
   "source": [
    "### Adelaide vs Richmond (Adelaide Oval)\n",
    "\n",
    "Result of **Adelaide 1-39** with probability of **92.39** <br>\n",
    "Look for markets offering a return greater than **$1.08**"
   ]
  },
  {
   "cell_type": "markdown",
   "id": "a9919da6",
   "metadata": {},
   "source": [
    "### Western Bulldogs vs Brisbane (Marvel Stadium)\n",
    "\n",
    "Result of **Brisbane 1-39** with probability of **84.26%** <br>\n",
    "Look for markets offering a return greater than **$1.19**"
   ]
  },
  {
   "cell_type": "markdown",
   "id": "7fcd7809",
   "metadata": {},
   "source": [
    "### Hawthorn vs Greater Western Sydney (UTAS)\n",
    "\n",
    "Result of **Hawthorn 1-39** with probability of **92.63%** <br>\n",
    "Look for markets offering a return greater than **$1.08**"
   ]
  },
  {
   "cell_type": "markdown",
   "id": "6eedaf8f",
   "metadata": {},
   "source": [
    "### West Coast vs North Melbourne (Optus Stadium)\n",
    "\n",
    "Result of **West Coast 1-39** with probability of **80.38%** <br>\n",
    "Look for markets offering a return greater than **$1.24**"
   ]
  },
  {
   "cell_type": "markdown",
   "id": "8ce444fb",
   "metadata": {},
   "source": [
    "### St Kilda vs Gold Coast (Marvel Stadium)\n",
    "\n",
    "Result of **Gold Coast 1-39** with probability of **83.11%** <br>\n",
    "Look for markets offering a return greater than **$1.20**"
   ]
  },
  {
   "cell_type": "markdown",
   "id": "adb6c1f8",
   "metadata": {},
   "source": [
    "### Sydney vs Geelong (SCG)\n",
    "\n",
    "Result of **Sydney 1-39** with probability of **93.01%** <br>\n",
    "Look for markets offering a return greater than **$1.08**"
   ]
  },
  {
   "cell_type": "markdown",
   "id": "e331a657",
   "metadata": {},
   "source": [
    "### Essendon vs Carlton (MCG)\n",
    "\n",
    "Result of **Carlton 1-39** with probability of **81.30%** <br>\n",
    "Look for markets offering a return greater than **$1.23**"
   ]
  },
  {
   "cell_type": "markdown",
   "id": "d3189c40",
   "metadata": {},
   "source": [
    "### Collingwood vs Melbourne (MCG)\n",
    "\n",
    "Result of **Collingwood 1-39** with probability of **92.94%** <br>\n",
    "Look for markets offering a return greater than **$1.08**"
   ]
  },
  {
   "cell_type": "markdown",
   "id": "305a2c26",
   "metadata": {},
   "source": [
    "## Round 12 <a class=\"anchor\" id=\"12\"></a>\n",
    "This weeks model accuracy based on model testing is **60.0%**"
   ]
  },
  {
   "cell_type": "markdown",
   "id": "93ac8268",
   "metadata": {},
   "source": [
    "### Port Adelaide vs Carlton (Adelaide Oval)\n",
    "\n",
    "Result of **Port Adelaide 1-39** with probability of **66.2%** <br>\n",
    "Look for markets offering a return greater than **$2.52**"
   ]
  },
  {
   "cell_type": "markdown",
   "id": "d64b2c25",
   "metadata": {},
   "source": [
    "### Collingwood vs Western Bulldogs (Marvel Stadium)\n",
    "\n",
    "Result of **Western Bulldogs 1-39** with probability of **85.9%** <br>\n",
    "Look for markets offering a return greater than **$1.94**"
   ]
  },
  {
   "cell_type": "markdown",
   "id": "e51a37a5",
   "metadata": {},
   "source": [
    "### Hawthorn vs Adelaide (MCG)\n",
    "\n",
    "Result of **Adelaide 1-39** with probability of **97.9%** <br>\n",
    "Look for markets offering a return greater than **$1.70**"
   ]
  },
  {
   "cell_type": "markdown",
   "id": "5a4d1e94",
   "metadata": {},
   "source": [
    "### West Coast vs St Kilda (Optus Stadium)\n",
    "\n",
    "Result of **St Kilda 1-39** with probability of **97.7%** <br>\n",
    "Look for markets offering a return greater than **$1.71**"
   ]
  },
  {
   "cell_type": "markdown",
   "id": "f7d89410",
   "metadata": {},
   "source": [
    "### Geelong vs Richmond (GMHBA Stadium)\n",
    "\n",
    "Result of **Geelong 1-39** with probability of **82.6%** <br>\n",
    "Look for markets offering a return greater than **$2.02**"
   ]
  },
  {
   "cell_type": "markdown",
   "id": "1bac031d",
   "metadata": {},
   "source": [
    "### Melbourne vs Fremantle (TIO Traeger Park)\n",
    "\n",
    "Result of **Fremantle 1-39** with probability of **75.9%** <br>\n",
    "Look for markets offering a return greater than **$2.19**"
   ]
  },
  {
   "cell_type": "markdown",
   "id": "6a540b2c",
   "metadata": {},
   "source": [
    "### Gold Coast vs Essendon (People First Stadium)\n",
    "\n",
    "Result of **Essendon 1-39** with probability of **98.2%** <br>\n",
    "Look for markets offering a return greater than **$1.70**"
   ]
  },
  {
   "cell_type": "markdown",
   "id": "ea74d632",
   "metadata": {},
   "source": [
    "## Round 11 <a class=\"anchor\" id=\"11\"></a>\n",
    "This weeks model accuracy based on model testing is **44.4%**"
   ]
  },
  {
   "cell_type": "markdown",
   "id": "6c84abe9",
   "metadata": {},
   "source": [
    "### Western Bulldogs vs Sydney (Marvel Stadium)\n",
    "\n",
    "Result of **Sydney 1-39** with probability of **97.8%** <br>\n",
    "Look for markets offering a return greater than **$2.30**"
   ]
  },
  {
   "cell_type": "markdown",
   "id": "06ab4813",
   "metadata": {},
   "source": [
    "### Fremantle vs Collingwood (Optus Stadium)\n",
    "\n",
    "Result of **Collingwood 1-39** with probability of **60.9%** <br>\n",
    "Look for markets offering a return greater than **$3.69**"
   ]
  },
  {
   "cell_type": "markdown",
   "id": "d3f2868d",
   "metadata": {},
   "source": [
    "### North Melbourne vs Port Adelaide (Blundstone Arena)\n",
    "\n",
    "Result of **Port Adelaide 1-39** with probability of **92.8%** <br>\n",
    "Look for markets offering a return greater than **$2.42**"
   ]
  },
  {
   "cell_type": "markdown",
   "id": "2ee8d972",
   "metadata": {},
   "source": [
    "### Carlton vs Gold Coast (Marvel Stadium)\n",
    "\n",
    "Result of **Gold Coast 1-39** with probability of **99.3%** <br>\n",
    "Look for markets offering a return greater than **$2.27**"
   ]
  },
  {
   "cell_type": "markdown",
   "id": "62e2fb9c",
   "metadata": {},
   "source": [
    "### Geelong vs Greater Western Sydney (GMHBA Stadium)\n",
    "\n",
    "Result of **Greater Western Sydney 1-39** with probability of **99.5%** <br>\n",
    "Look for markets offering a return greater than **$2.26**"
   ]
  },
  {
   "cell_type": "markdown",
   "id": "4cfe97d8",
   "metadata": {},
   "source": [
    "### Richmond vs Essendon (MCG)\n",
    "\n",
    "Result of **Essendon 40+** with probability of **99.9%** <br>\n",
    "Look for markets offering a return greater than **$2.25**"
   ]
  },
  {
   "cell_type": "markdown",
   "id": "fb84aa06",
   "metadata": {},
   "source": [
    "### Hawthorn vs Brisbane (Marvel Stadium)\n",
    "\n",
    "Result of **Brisbane 1-39** with probability of **80.3%** <br>\n",
    "Look for markets offering a return greater than **$2.80**"
   ]
  },
  {
   "cell_type": "markdown",
   "id": "c9ac12bc",
   "metadata": {},
   "source": [
    "### Melbourne vs St Kilda (MCG)\n",
    "\n",
    "Result of **St Kilda 1-39** with probability of **86.4%** <br>\n",
    "Look for markets offering a return greater than **$2.60**"
   ]
  },
  {
   "cell_type": "markdown",
   "id": "df2f737f",
   "metadata": {},
   "source": [
    "### Adelaide vs West Coast (Adelaide Oval)\n",
    "\n",
    "Result of **Adelaide 1-39** with probability of **71.6%** <br>\n",
    "Look for markets offering a return greater than **$3.14**"
   ]
  },
  {
   "cell_type": "markdown",
   "id": "118c569a",
   "metadata": {},
   "source": [
    "## Round 10 <a class=\"anchor\" id=\"10\"></a>\n",
    "This weeks model accuracy based on model testing is **58.8%**"
   ]
  },
  {
   "cell_type": "markdown",
   "id": "b04651db",
   "metadata": {},
   "source": [
    "### Gold Coast vs Geelong (TIO Stadium)\n",
    "\n",
    "Result of **Geelong 1-39** with probability of **72.4%** <br>\n",
    "Look for markets offering a return greater than **$2.35**"
   ]
  },
  {
   "cell_type": "markdown",
   "id": "2df4b572",
   "metadata": {},
   "source": [
    "### Sydney vs Carlton (SCG)\n",
    "\n",
    "Result of **Sydney 1-39** with probability of **97.4%** <br>\n",
    "Look for markets offering a return greater than **$1.75**"
   ]
  },
  {
   "cell_type": "markdown",
   "id": "4535cef4",
   "metadata": {},
   "source": [
    "### Collingwood vs Adelaide (MCG)\n",
    "\n",
    "Result of **Adelaide 1-39** with probability of **88.1%** <br>\n",
    "Look for markets offering a return greater than **$1.93**"
   ]
  },
  {
   "cell_type": "markdown",
   "id": "ec340dcd",
   "metadata": {},
   "source": [
    "### Greater Western Sydney vs Western Bulldogs (ENGIE Stadium)\n",
    "\n",
    "Result of **Western Bulldogs 1-39** with probability of **98.0%** <br>\n",
    "Look for markets offering a return greater than **$1.73**"
   ]
  },
  {
   "cell_type": "markdown",
   "id": "b8a0bee0",
   "metadata": {},
   "source": [
    "### St Kilda vs Fremantle (Marvel Stadium)\n",
    "\n",
    "Result of **Fremantle 1-39** with probability of **82.5%** <br>\n",
    "Look for markets offering a return greater than **$2.06**"
   ]
  },
  {
   "cell_type": "markdown",
   "id": "be2512ba",
   "metadata": {},
   "source": [
    "### Brisbane vs Richmond (Gabba)\n",
    "\n",
    "Result of **Brisbane 1-39** with probability of **96.7%** <br>\n",
    "Look for markets offering a return greater than **$1.76**"
   ]
  },
  {
   "cell_type": "markdown",
   "id": "7aa546db",
   "metadata": {},
   "source": [
    "### Essendon vs North Melbourne (Marvel Stadium)\n",
    "\n",
    "Result of **Essendon 1-39** with probability of **96.4%** <br>\n",
    "Look for markets offering a return greater than **$1.76**"
   ]
  },
  {
   "cell_type": "markdown",
   "id": "326cee90",
   "metadata": {},
   "source": [
    "### Port Adelaide vs Hawthorn (Adelaide Oval)\n",
    "\n",
    "Result of **Port Adelaide 1-39** with probability of **82.5%** <br>\n",
    "Look for markets offering a return greater than **$2.06**"
   ]
  },
  {
   "cell_type": "markdown",
   "id": "d7fe8c82",
   "metadata": {},
   "source": [
    "### West Coast vs Melbourne (Optus Stadium)\n",
    "\n",
    "Result of **Melbourne 1-39** with probability of **99.4%** <br>\n",
    "Look for markets offering a return greater than **$1.71**"
   ]
  }
 ],
 "metadata": {
  "kernelspec": {
   "display_name": "Python 3 (ipykernel)",
   "language": "python",
   "name": "python3"
  },
  "language_info": {
   "codemirror_mode": {
    "name": "ipython",
    "version": 3
   },
   "file_extension": ".py",
   "mimetype": "text/x-python",
   "name": "python",
   "nbconvert_exporter": "python",
   "pygments_lexer": "ipython3",
   "version": "3.8.18"
  },
  "varInspector": {
   "cols": {
    "lenName": 16,
    "lenType": 16,
    "lenVar": 40
   },
   "kernels_config": {
    "python": {
     "delete_cmd_postfix": "",
     "delete_cmd_prefix": "del ",
     "library": "var_list.py",
     "varRefreshCmd": "print(var_dic_list())"
    },
    "r": {
     "delete_cmd_postfix": ") ",
     "delete_cmd_prefix": "rm(",
     "library": "var_list.r",
     "varRefreshCmd": "cat(var_dic_list()) "
    }
   },
   "types_to_exclude": [
    "module",
    "function",
    "builtin_function_or_method",
    "instance",
    "_Feature"
   ],
   "window_display": false
  }
 },
 "nbformat": 4,
 "nbformat_minor": 5
}
