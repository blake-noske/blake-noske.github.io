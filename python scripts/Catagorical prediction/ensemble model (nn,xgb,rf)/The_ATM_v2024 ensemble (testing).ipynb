{
 "cells": [
  {
   "cell_type": "code",
   "execution_count": 1,
   "id": "df363d09",
   "metadata": {},
   "outputs": [],
   "source": [
    "import warnings\n",
    "warnings.filterwarnings('ignore')\n",
    "\n",
    "import pandas as pd\n",
    "import numpy as np\n",
    "import ipywidgets as widgets\n",
    "from IPython.display import display\n",
    "import tensorflow as tf\n",
    "from tensorflow.keras.models import load_model\n",
    "import joblib\n",
    "import math\n",
    "import os\n",
    "import pickle\n",
    "\n",
    "with open('accuracy.pkl', 'rb') as f:\n",
    "    a = pickle.load(f)"
   ]
  },
  {
   "cell_type": "code",
   "execution_count": 2,
   "id": "9f6fa4e6-989f-4eae-8a6f-e54924f5a23e",
   "metadata": {},
   "outputs": [],
   "source": [
    "# Load the datasets\n",
    "os.chdir('C:\\\\Users\\\\blake\\\\Desktop\\\\AFL Odds\\\\cleaned data')\n",
    "\n",
    "match_results = pd.read_csv('afl_match_results_cleaned.csv')\n",
    "team_stats = pd.read_csv('afl_team_stats_cleaned.csv')\n",
    "win_streaks = pd.read_csv('afl_team_streaks_cleaned.csv',index_col=0)\n",
    "venue_streaks = pd.read_csv('afl_venue_streaks_cleaned.csv',index_col=0)\n",
    "team_form = pd.read_csv('afl_team_form_cleaned.csv',index_col=0)\n",
    "fixture = pd.read_csv('afl_fixture_cleaned.csv',index_col=0)\n",
    "\n",
    "os.chdir('C:\\\\Users\\\\blake\\\\Desktop\\\\AFL Odds\\\\python scripts\\\\Catagorical prediction\\\\ensemble model (nn,xgb,rf)')"
   ]
  },
  {
   "cell_type": "code",
   "execution_count": 3,
   "id": "f05f965c-b5f3-48ea-ace0-dce4645147cc",
   "metadata": {},
   "outputs": [],
   "source": [
    "weather_categories = ['CLEAR_NIGHT','MOSTLY_SUNNY','OVERCAST','RAIN','SUNNY','THUNDERSTORMS','WINDY']  # Add all weather types you used\n",
    "\n",
    "# Create a dictionary where all categories are 0\n",
    "weather_dict = {category: 0 for category in weather_categories}\n",
    "\n",
    "def round_decimals_up(number:float, decimals:int=2):\n",
    "    \"\"\"\n",
    "    Returns a value rounded up to a specific number of decimal places.\n",
    "    \"\"\"\n",
    "    if not isinstance(decimals, int):\n",
    "        raise TypeError(\"decimal places must be an integer\")\n",
    "    elif decimals < 0:\n",
    "        raise ValueError(\"decimal places has to be 0 or more\")\n",
    "    elif decimals == 0:\n",
    "        return math.ceil(number)\n",
    "\n",
    "    factor = 10 ** decimals\n",
    "    return math.ceil(number * factor) / factor\n",
    "\n",
    "def extract_features(home_team, away_team, venue,weather):\n",
    "    # Get the weighted average stats for home and away teams\n",
    "    home_stats = team_stats[team_stats['Team'] == home_team].iloc[:, 1:].values.flatten()\n",
    "    away_stats = team_stats[team_stats['Team'] == away_team].iloc[:, 1:].values.flatten()\n",
    "    \n",
    "    # Get the win streaks\n",
    "    team_win_streak = win_streaks.loc[away_team, home_team].flatten()\n",
    "    home_venue_streak = venue_streaks.loc[home_team, venue].flatten()\n",
    "    away_venue_streak = venue_streaks.loc[away_team, venue].flatten()\n",
    "    home_team_form = team_form.loc[team_form['Team'] == home_team, 'Current.Form'].values[0].flatten()\n",
    "    away_team_form = team_form.loc[team_form['Team'] == home_team, 'Current.Form'].values[0].flatten()\n",
    "    \n",
    "    weather_dict[weather] = 1\n",
    "    # Convert the dictionary to a DataFrame (single row)\n",
    "    weather_df = pd.DataFrame([weather_dict]).values.flatten()\n",
    "    \n",
    "    # Combine all features into a single array\n",
    "    features = np.concatenate([\n",
    "    home_stats, home_team_form,\n",
    "    away_stats, away_team_form,\n",
    "    home_venue_streak,away_venue_streak,team_win_streak,\n",
    "    weather_df\n",
    "    ])\n",
    "\n",
    "    column_names = match_results.drop(columns=['match.homeTeam.name', 'match.awayTeam.name','venue.name','Margin','Result','weather.weatherType',\n",
    "                                          'Home.Team.Venue.Win.Streak', 'Away.Team.Venue.Win.Streak','Home.Win.Streak']).columns  # Replace with actual feature names\n",
    "    column_names = column_names.append(pd.Index(['Home.Team.Venue.Win.Streak', 'Away.Team.Venue.Win.Streak','Home.Win.Streak'])).append(pd.Index(weather_categories))\n",
    "\n",
    "\n",
    "    new_data_df = pd.DataFrame(features.reshape(1, -1), columns=column_names)\n",
    "\n",
    "    features = preprocessor.transform(new_data_df)  # Normalize features\n",
    "    \n",
    "    return features\n",
    "\n",
    "# Load RandomForest model\n",
    "rf_model = joblib.load('rf_model.pkl')\n",
    "\n",
    "# Load XGBoost model\n",
    "xgb_model = joblib.load('xgb_model.pkl')\n",
    "\n",
    "# Load the neural network model\n",
    "nn_model_full = load_model('nn_model.h5')\n",
    "\n",
    "# Load the meta-model (Logistic Regression)\n",
    "meta_model_full = joblib.load('meta_model.pkl')\n",
    "\n",
    "with open('encoder.pkl', 'rb') as f:\n",
    "    encoder = pickle.load(f)\n",
    "with open('preprocessor.pkl', 'rb') as f:\n",
    "    preprocessor = pickle.load(f)\n",
    "\n",
    "def make_prediction(home_team, away_team, venue,weather):\n",
    "    features = extract_features(home_team, away_team, venue,weather)\n",
    "\n",
    "    rf_predictions_new = rf_model.predict_proba(features)\n",
    "    xgb_predictions_new = xgb_model.predict_proba(features)\n",
    "    nn_predictions_new = nn_model_full.predict(features)\n",
    "\n",
    "    # Stack predictions to form meta-features\n",
    "    meta_features_new = np.hstack([rf_predictions_new, xgb_predictions_new, nn_predictions_new])\n",
    "\n",
    "    # Get final ensemble prediction\n",
    "    final_prediction = meta_model_full.predict_proba(meta_features_new)\n",
    "    \n",
    "    #prediction_probs = model.predict(features)[0]\n",
    "    predicted_class_index = np.argmax(final_prediction)\n",
    "    predicted_class = encoder.inverse_transform([predicted_class_index])[0]  # Decode the prediction\n",
    "    max_prob = final_prediction[0][predicted_class_index]  # Get the maximum probability and its corresponding class\n",
    "    acc = max_prob * a\n",
    "    max_prob_percent = f\"{acc * 100:.2f}%\"\n",
    "    market = f\"{round_decimals_up(1 / acc,2):.2f}\"\n",
    "\n",
    "    return predicted_class,max_prob_percent,market\n",
    "\n"
   ]
  },
  {
   "cell_type": "code",
   "execution_count": 4,
   "id": "3398e2b8-e48c-4806-a4e5-606f28929d49",
   "metadata": {},
   "outputs": [
    {
     "name": "stdout",
     "output_type": "stream",
     "text": [
      "1/1 [==============================] - 0s 209ms/step\n"
     ]
    }
   ],
   "source": [
    "results=[]\n",
    "prob=[]\n",
    "market=[]\n",
    "for home_team,away_team,venue,weather in zip(list(fixture['home.team.name']),\n",
    "                                             list(fixture['away.team.name']),\n",
    "                                             list(fixture['venue.name']),\n",
    "                                             list(fixture['Next_round_weather'])):\n",
    "    #print(home_team,away_team,venue,weather)\n",
    "    (r,p,m)=make_prediction(home_team,away_team,venue,weather)\n",
    "    \n",
    "    \n",
    "    \n",
    "    results.append(r)\n",
    "    prob.append(p)\n",
    "    market.append(m)"
   ]
  },
  {
   "cell_type": "code",
   "execution_count": 5,
   "id": "26a554d5-ff0a-4f8c-9fa5-1fbe42573c11",
   "metadata": {},
   "outputs": [],
   "source": [
    "# # Run after all games\n",
    "os.chdir('C:\\\\Users\\\\blake\\\\Desktop\\\\AFL Odds\\\\Testing and Analysis\\\\Catagorical prediction\\\\Ensemble (nn, xgb,rf)')\n",
    "pd.DataFrame(results).to_excel(f\"2024 ensemble testing {fixture['round.name'][1]}.xlsx\", index=False)"
   ]
  }
 ],
 "metadata": {
  "kernelspec": {
   "display_name": "Python 3 (ipykernel)",
   "language": "python",
   "name": "python3"
  },
  "language_info": {
   "codemirror_mode": {
    "name": "ipython",
    "version": 3
   },
   "file_extension": ".py",
   "mimetype": "text/x-python",
   "name": "python",
   "nbconvert_exporter": "python",
   "pygments_lexer": "ipython3",
   "version": "3.10.14"
  },
  "varInspector": {
   "cols": {
    "lenName": 16,
    "lenType": 16,
    "lenVar": 40
   },
   "kernels_config": {
    "python": {
     "delete_cmd_postfix": "",
     "delete_cmd_prefix": "del ",
     "library": "var_list.py",
     "varRefreshCmd": "print(var_dic_list())"
    },
    "r": {
     "delete_cmd_postfix": ") ",
     "delete_cmd_prefix": "rm(",
     "library": "var_list.r",
     "varRefreshCmd": "cat(var_dic_list()) "
    }
   },
   "types_to_exclude": [
    "module",
    "function",
    "builtin_function_or_method",
    "instance",
    "_Feature"
   ],
   "window_display": false
  },
  "widgets": {
   "application/vnd.jupyter.widget-state+json": {
    "state": {},
    "version_major": 2,
    "version_minor": 0
   }
  }
 },
 "nbformat": 4,
 "nbformat_minor": 5
}
