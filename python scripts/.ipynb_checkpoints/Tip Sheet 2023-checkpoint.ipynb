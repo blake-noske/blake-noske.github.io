{
 "cells": [
  {
   "cell_type": "markdown",
   "id": "fea69eaa",
   "metadata": {},
   "source": [
    "# Tip Sheet 2023"
   ]
  },
  {
   "cell_type": "markdown",
   "id": "73074bec",
   "metadata": {},
   "source": [
    "**Author:** Blake Noske"
   ]
  },
  {
   "cell_type": "markdown",
   "id": "3c92728e",
   "metadata": {},
   "source": [
    "This report will detail predicted results for each round."
   ]
  },
  {
   "cell_type": "markdown",
   "id": "89f26154",
   "metadata": {},
   "source": [
    "My tipping philosophy is:\n",
    "- if probability < 50%: bet \\\\$0\n",
    "- if probability is between 50% and 74.9%: bet \\\\$5\n",
    "- if probability is 75% and above: bet \\\\$10"
   ]
  },
  {
   "cell_type": "markdown",
   "id": "e9e38716",
   "metadata": {},
   "source": [
    "### Navigation:\n",
    "- [Round 24](#24)\n",
    "- [Round 23](#23)\n",
    "- [Round 22](#22)\n",
    "- [Round 21](#21)\n",
    "- [Round 20](#20)\n",
    "- [Round 19](#19)\n",
    "- [Round 18](#18)\n",
    "- [Round 17](#17)\n",
    "- [Round 16](#16)\n",
    "- [Round 15](#15)"
   ]
  },
  {
   "cell_type": "markdown",
   "id": "ba26ac47",
   "metadata": {},
   "source": [
    "## Round 24 <a class=\"anchor\" id=\"24\"></a>\n",
    "This weeks model accuracy based on model testing is **72.5%**"
   ]
  },
  {
   "cell_type": "markdown",
   "id": "fc53e537",
   "metadata": {},
   "source": [
    "### Essendon vs Collingwood (MCG)\n",
    "\n",
    "Result of **Collingwood 1-39** with probability of **98.4%** <br>\n",
    "Look for markets offering a return greater than **$1.40**"
   ]
  },
  {
   "cell_type": "markdown",
   "id": "989aa25f",
   "metadata": {},
   "source": [
    "### North Melbourne vs Gold Coast (Blundstone Arena)\n",
    "\n",
    "Result of **Gold Coast 1-39** with probability of **99.1%** <br>\n",
    "Look for markets offering a return greater than **$1.39**"
   ]
  },
  {
   "cell_type": "markdown",
   "id": "cad7e7d8",
   "metadata": {},
   "source": [
    "### Hawthorn vs Fremantle (MCG)\n",
    "\n",
    "Result of **Fremantle 1-39** with probability of **82.6%** <br>\n",
    "Look for markets offering a return greater than **$1.67**"
   ]
  },
  {
   "cell_type": "markdown",
   "id": "97beb4cf",
   "metadata": {},
   "source": [
    "### Brisbane Lions vs St Kilda (Gabba)\n",
    "\n",
    "Result of **St Kilda 1-39** with probability of **87.3%** <br>\n",
    "Look for markets offering a return greater than **$1.58**"
   ]
  },
  {
   "cell_type": "markdown",
   "id": "1000bfab",
   "metadata": {},
   "source": [
    "### Geelong vs Western Bulldogs (GMHBA)\n",
    "\n",
    "Result of **Western Bulldogs 1-39** with probability of **90.5%** <br>\n",
    "Look for markets offering a return greater than **$1.52**"
   ]
  },
  {
   "cell_type": "markdown",
   "id": "1335b692",
   "metadata": {},
   "source": [
    "### West Coast vs Adelaide (Optus)\n",
    "\n",
    "Result of **Adelaide 1-39** with probability of **74.3%** <br>\n",
    "Look for markets offering a return greater than **$1.86**"
   ]
  },
  {
   "cell_type": "markdown",
   "id": "64ea95d5",
   "metadata": {},
   "source": [
    "### Port Adelaide vs Richmond (Adelaide Oval)\n",
    "\n",
    "Result of **Port Adelaide 1-39** with probability of **85.4%** <br>\n",
    "Look for markets offering a return greater than **$1.62**"
   ]
  },
  {
   "cell_type": "markdown",
   "id": "48d2054b",
   "metadata": {},
   "source": [
    "### Sydney vs Melbourne (SCG)\n",
    "\n",
    "Result of **Melbourne 1-39** with probability of **79.2%** <br>\n",
    "Look for markets offering a return greater than **$1.74**"
   ]
  },
  {
   "cell_type": "markdown",
   "id": "dff98d2b",
   "metadata": {},
   "source": [
    "### Carlton vs GWS (Marvel)\n",
    "\n",
    "Result of **GWS 1-39** with probability of **90.2%** <br>\n",
    "Look for markets offering a return greater than **$1.53**"
   ]
  },
  {
   "cell_type": "markdown",
   "id": "15cc132e",
   "metadata": {},
   "source": [
    "## Round 23 <a class=\"anchor\" id=\"23\"></a>\n",
    "This weeks model accuracy based on model testing is **60.5%**"
   ]
  },
  {
   "cell_type": "markdown",
   "id": "c1d7608f",
   "metadata": {},
   "source": [
    "### Collingwood vs Brisbane Lions (Marvel)\n",
    "\n",
    "Result of **Brisbane 1-39** with probability of **83.7%** <br>\n",
    "Look for markets offering a return greater than **$1.97**"
   ]
  },
  {
   "cell_type": "markdown",
   "id": "2c9cf4df",
   "metadata": {},
   "source": [
    "### Richmond vs North Melbourne (MCG)\n",
    "\n",
    "Result of **Richmond 1-39** with probability of **99.4%** <br>\n",
    "Look for markets offering a return greater than **$1.66**"
   ]
  },
  {
   "cell_type": "markdown",
   "id": "fd332e40",
   "metadata": {},
   "source": [
    "### Gold Coast vs Carlton (Heritage Bank Stadium)\n",
    "\n",
    "Result of **Carlton 1-39** with probability of **93.8%** <br>\n",
    "Look for markets offering a return greater than **$1.76**"
   ]
  },
  {
   "cell_type": "markdown",
   "id": "6d95cad7",
   "metadata": {},
   "source": [
    "### GWS vs Essendon (GIANTS Stadium)\n",
    "\n",
    "Result of **Essendon 1-39** with probability of **84.0%** <br>\n",
    "Look for markets offering a return greater than **$1.97**"
   ]
  },
  {
   "cell_type": "markdown",
   "id": "228df1cc",
   "metadata": {},
   "source": [
    "### St Kilda vs Geelong (Marvel)\n",
    "\n",
    "Result of **St Kilda 1-39** with probability of **81.8%** <br>\n",
    "Look for markets offering a return greater than **$2.02**"
   ]
  },
  {
   "cell_type": "markdown",
   "id": "dfa9d3af",
   "metadata": {},
   "source": [
    "### Adelaide vs Sydney (Adelaide Oval)\n",
    "\n",
    "Result of **Sydney 1-39** with probability of **59.2%** <br>\n",
    "Look for markets offering a return greater than **$2.79**"
   ]
  },
  {
   "cell_type": "markdown",
   "id": "1b87bacf",
   "metadata": {},
   "source": [
    "### Western Bulldogs vs West Coast (Marvel)\n",
    "\n",
    "Result of **Western Bulldogs 1-39** with probability of **95.6%** <br>\n",
    "Look for markets offering a return greater than **$1.73**"
   ]
  },
  {
   "cell_type": "markdown",
   "id": "d6ded9b1",
   "metadata": {},
   "source": [
    "### Melbourne vs Hawthorn (MCG)\n",
    "\n",
    "Result of **Melbourne 1-39** with probability of **86.2%** <br>\n",
    "Look for markets offering a return greater than **$1.92**"
   ]
  },
  {
   "cell_type": "markdown",
   "id": "8c782503",
   "metadata": {},
   "source": [
    "### Fremantle vs Port Adelaide (Optus)\n",
    "\n",
    "Result of **Fremantle 1-39** with probability of **78.3%** <br>\n",
    "Look for markets offering a return greater than **$2.11**"
   ]
  },
  {
   "cell_type": "markdown",
   "id": "6ab48b9d",
   "metadata": {},
   "source": [
    "## Round 22 <a class=\"anchor\" id=\"22\"></a>\n",
    "This weeks model accuracy based on model testing is **63.9%**"
   ]
  },
  {
   "cell_type": "markdown",
   "id": "389ed86c",
   "metadata": {},
   "source": [
    "### Collingwood vs Geelong (MCG)\n",
    "\n",
    "Result of **Geelong 1-39** with probability of **86.3%** <br>\n",
    "Look for markets offering a return greater than **$1.81**"
   ]
  },
  {
   "cell_type": "markdown",
   "id": "b5447791",
   "metadata": {},
   "source": [
    "### North Melbourne vs Essendon (Marvel)\n",
    "\n",
    "Result of **Essendon 1-39** with probability of **55.9%** <br>\n",
    "Look for markets offering a return greater than **$2.80**"
   ]
  },
  {
   "cell_type": "markdown",
   "id": "ada8f459",
   "metadata": {},
   "source": [
    "### Sydney vs Gold Coast (SCG)\n",
    "\n",
    "Result of **Sydney 1-39** with probability of **88.2%** <br>\n",
    "Look for markets offering a return greater than **$1.77**"
   ]
  },
  {
   "cell_type": "markdown",
   "id": "757b230e",
   "metadata": {},
   "source": [
    "### Brisbane Lions vs Adelaide (Gabba)\n",
    "\n",
    "Result of **Adelaide 1-39** with probability of **72.8%** <br>\n",
    "Look for markets offering a return greater than **$2.15**"
   ]
  },
  {
   "cell_type": "markdown",
   "id": "67a9d422",
   "metadata": {},
   "source": [
    "### Carlton vs Melbourne MCG)\n",
    "\n",
    "Result of **Melbourne 1-39** with probability of **65.8%** <br>\n",
    "Look for markets offering a return greater than **$2.38**"
   ]
  },
  {
   "cell_type": "markdown",
   "id": "fedf4bd8",
   "metadata": {},
   "source": [
    "### West Coast vs Fremantle (Optus)\n",
    "\n",
    "Result of **Fremantle 1-39** with probability of **93.6%** <br>\n",
    "Look for markets offering a return greater than **$1.67**"
   ]
  },
  {
   "cell_type": "markdown",
   "id": "bd14f139",
   "metadata": {},
   "source": [
    "### Hawthorn vs Western Bulldogs (UTAS Stadium)\n",
    "\n",
    "Result of **Western Bulldogs 40+** with probability of **96.7%** <br>\n",
    "Look for markets offering a return greater than **$1.62**"
   ]
  },
  {
   "cell_type": "markdown",
   "id": "a23c8b9e",
   "metadata": {},
   "source": [
    "### St Kilda vs Richmond (Marvel)\n",
    "\n",
    "Result of **St Kilda 1-39** with probability of **79.9%** <br>\n",
    "Look for markets offering a return greater than **$1.96**"
   ]
  },
  {
   "cell_type": "markdown",
   "id": "da3d7b45",
   "metadata": {},
   "source": [
    "### Port Adelaide vs GWS (Adelaide Oval)\n",
    "\n",
    "Result of **GWS 1-39** with probability of **84.8%** <br>\n",
    "Look for markets offering a return greater than **$1.85**"
   ]
  },
  {
   "cell_type": "markdown",
   "id": "03349e0b",
   "metadata": {},
   "source": [
    "## Round 21 <a class=\"anchor\" id=\"21\"></a>\n",
    "This weeks model accuracy based on model testing is **71.4%**"
   ]
  },
  {
   "cell_type": "markdown",
   "id": "a137cdfd",
   "metadata": {},
   "source": [
    "### Western Bulldogs vs Richmond (Marvel)\n",
    "\n",
    "Result of **Western Bulldogs 1-39** with probability of **67.1%** <br>\n",
    "Look for markets offering a return greater than **$2.09**"
   ]
  },
  {
   "cell_type": "markdown",
   "id": "f404c9f5",
   "metadata": {},
   "source": [
    "### Essendon vs West Coast (Marvel)\n",
    "\n",
    "Result of **Essendon 1-39** with probability of **97.3%** <br>\n",
    "Look for markets offering a return greater than **$1.44**"
   ]
  },
  {
   "cell_type": "markdown",
   "id": "bd31e5dd",
   "metadata": {},
   "source": [
    "### Adelaide vs Gold Coast (Adelaide Oval)\n",
    "\n",
    "Result of **Adelaide 1-39** with probability of **83.8%** <br>\n",
    "Look for markets offering a return greater than **$1.67**"
   ]
  },
  {
   "cell_type": "markdown",
   "id": "ffbec1cf",
   "metadata": {},
   "source": [
    "### Hawthorn vs Collingwood (MCG)\n",
    "\n",
    "Result of **Collingwood 1-39** with probability of **97.9%** <br>\n",
    "Look for markets offering a return greater than **$1.43**"
   ]
  },
  {
   "cell_type": "markdown",
   "id": "984164a6",
   "metadata": {},
   "source": [
    "### Geelong vs Port Adelaide (GMHBA)\n",
    "\n",
    "Result of **Geelong 1-39** with probability of **84.2%** <br>\n",
    "Look for markets offering a return greater than **$1.66**"
   ]
  },
  {
   "cell_type": "markdown",
   "id": "93090cf0",
   "metadata": {},
   "source": [
    "### GWS vs Sydney (GIANTS Stadium)\n",
    "\n",
    "Result of **GWS 1-39** with probability of **62.7%** <br>\n",
    "Look for markets offering a return greater than **$2.23**"
   ]
  },
  {
   "cell_type": "markdown",
   "id": "82d7372d",
   "metadata": {},
   "source": [
    "### North Melbourne vs Melbourne (Blundstone Arena)\n",
    "\n",
    "Result of **Melbourne 40+** with probability of **83.2%** <br>\n",
    "Look for markets offering a return greater than **$1.68**"
   ]
  },
  {
   "cell_type": "markdown",
   "id": "1c0147ce",
   "metadata": {},
   "source": [
    "### St Kilda vs Carlton (Marvel)\n",
    "\n",
    "Result of **Carlton 1-39** with probability of **83.7%** <br>\n",
    "Look for markets offering a return greater than **$1.67**"
   ]
  },
  {
   "cell_type": "markdown",
   "id": "506efafe",
   "metadata": {},
   "source": [
    "### Fremantle vs Brisbane Lions (Optus)\n",
    "\n",
    "Result of **Brisbane Lions 1-39** with probability of **94.9%** <br>\n",
    "Look for markets offering a return greater than **$1.48**"
   ]
  },
  {
   "cell_type": "markdown",
   "id": "839d1f5f",
   "metadata": {},
   "source": [
    "## Round 20 <a class=\"anchor\" id=\"20\"></a>\n",
    "This weeks model accuracy based on model testing is **66.7%**"
   ]
  },
  {
   "cell_type": "markdown",
   "id": "80d72acc",
   "metadata": {},
   "source": [
    "### Collingwood vs Carlton (MCG)\n",
    "\n",
    "Result of **Carlton 1-39** with probability of **93.2%** <br>\n",
    "Look for markets offering a return greater than **$1.61**"
   ]
  },
  {
   "cell_type": "markdown",
   "id": "ee691c3f",
   "metadata": {},
   "source": [
    "### Western Bulldogs vs GWS (Mars Stadium)\n",
    "\n",
    "Result of **GWS 1-39** with probability of **67.3%** <br>\n",
    "Look for markets offering a return greater than **$2.23**"
   ]
  },
  {
   "cell_type": "markdown",
   "id": "be2ce57a",
   "metadata": {},
   "source": [
    "### Geelong vs Fremantle (GMHBA)\n",
    "\n",
    "Result of **Geelong 1-39** with probability of **97.1%** <br>\n",
    "Look for markets offering a return greater than **$1.54**"
   ]
  },
  {
   "cell_type": "markdown",
   "id": "8558326d",
   "metadata": {},
   "source": [
    "### Gold Coast vs Brisbane Lions (Heritage Bank Stadium)\n",
    "\n",
    "Result of **Brisbane 1-39** with probability of **59.2%** <br>\n",
    "Look for markets offering a return greater than **$2.53**"
   ]
  },
  {
   "cell_type": "markdown",
   "id": "8d4933bf",
   "metadata": {},
   "source": [
    "### Essendon vs Sydney (Marvel)\n",
    "\n",
    "Result of **Sydney 1-39** with probability of **90.2%** <br>\n",
    "Look for markets offering a return greater than **$1.66**"
   ]
  },
  {
   "cell_type": "markdown",
   "id": "22da44dc",
   "metadata": {},
   "source": [
    "### Adelaide vs Port Adelaide (Adelaide Oval)\n",
    "\n",
    "Result of **Port Adelaide 1-39** with probability of **88.3%** <br>\n",
    "Look for markets offering a return greater than **$1.70**"
   ]
  },
  {
   "cell_type": "markdown",
   "id": "0a6522ea",
   "metadata": {},
   "source": [
    "### Hawthorn vs St Kilda (Marvel)\n",
    "\n",
    "Result of **St Kilda 1-39** with probability of **95.0%** <br>\n",
    "Look for markets offering a return greater than **$1.58**"
   ]
  },
  {
   "cell_type": "markdown",
   "id": "0bfca55d",
   "metadata": {},
   "source": [
    "### Richmond vs Melbourne (MCG)\n",
    "\n",
    "Result of **Richmond 1-39** with probability of **82.6%** <br>\n",
    "Look for markets offering a return greater than **$1.82**"
   ]
  },
  {
   "cell_type": "markdown",
   "id": "3487e82d",
   "metadata": {},
   "source": [
    "### West Coast vs North Melbourne (Optus)\n",
    "\n",
    "Result of **North Melbourne 1-39** with probability of **97.8%** <br>\n",
    "Look for markets offering a return greater than **$1.53**"
   ]
  },
  {
   "cell_type": "markdown",
   "id": "5bb50877",
   "metadata": {},
   "source": [
    "## Round 19 <a class=\"anchor\" id=\"19\"></a>\n",
    "This weeks model accuracy based on model testing is **58.1%**"
   ]
  },
  {
   "cell_type": "markdown",
   "id": "ee51fd51",
   "metadata": {},
   "source": [
    "### Essendon vs Western Bulldogs (Marvel)\n",
    "\n",
    "Result of **Western Bulldogs 1-39** with probability of **81.0%** <br>\n",
    "Look for markets offering a return greater than **$2.13**"
   ]
  },
  {
   "cell_type": "markdown",
   "id": "8e01498a",
   "metadata": {},
   "source": [
    "### Richmond vs Hawthorn (MCG)\n",
    "\n",
    "Result of **Richmond 1-39** with probability of **95.5%** <br>\n",
    "Look for markets offering a return greater than **$1.77**"
   ]
  },
  {
   "cell_type": "markdown",
   "id": "9c76a2b4",
   "metadata": {},
   "source": [
    "### Carlton vs West Coast (Marvel)\n",
    "\n",
    "Result of **Carlton 40+** with probability of **99.4%** <br>\n",
    "Look for markets offering a return greater than **$1.73**"
   ]
  },
  {
   "cell_type": "markdown",
   "id": "de145b3f",
   "metadata": {},
   "source": [
    "### Brisbane Lions vs Geelong (Gabba)\n",
    "\n",
    "Result of **Brisbane 1-39** with probability of **95.3%** <br>\n",
    "Look for markets offering a return greater than **$1.81**"
   ]
  },
  {
   "cell_type": "markdown",
   "id": "d9c882b4",
   "metadata": {},
   "source": [
    "### Port Adelaide vs Collingwood (Adelaide Oval)\n",
    "\n",
    "Result of **Collingwood 1-39** with probability of **81.3%** <br>\n",
    "Look for markets offering a return greater than **$2.12**"
   ]
  },
  {
   "cell_type": "markdown",
   "id": "a5af63c3",
   "metadata": {},
   "source": [
    "### Fremantle vs Sydney (Optus)\n",
    "\n",
    "Result of **Sydney 1-39** with probability of **91.1%** <br>\n",
    "Look for markets offering a return greater than **$1.89**"
   ]
  },
  {
   "cell_type": "markdown",
   "id": "05cd240c",
   "metadata": {},
   "source": [
    "### GWS vs Gold Coast (Manuka Oval)\n",
    "\n",
    "Result of **GWS 1-39** with probability of **98.5%** <br>\n",
    "Look for markets offering a return greater than **$1.75**"
   ]
  },
  {
   "cell_type": "markdown",
   "id": "1b07bfe6",
   "metadata": {},
   "source": [
    "### Melbourne vs Adelaide (MCG)\n",
    "\n",
    "Result of **Adelaide 1-39** with probability of **55.0%** <br>\n",
    "Look for markets offering a return greater than **$3.13**"
   ]
  },
  {
   "cell_type": "markdown",
   "id": "d3719748",
   "metadata": {},
   "source": [
    "### St Kilda vs North Melbourne (Marvel)\n",
    "\n",
    "Result of **St Kilda 1-39** with probability of **80.9%** <br>\n",
    "Look for markets offering a return greater than **$2.13**"
   ]
  },
  {
   "cell_type": "markdown",
   "id": "6c54b3f9",
   "metadata": {},
   "source": [
    "## Round 18 <a class=\"anchor\" id=\"18\"></a>\n",
    "This weeks model accuracy based on model testing is **72.4%**"
   ]
  },
  {
   "cell_type": "markdown",
   "id": "669f02d4",
   "metadata": {},
   "source": [
    "### Sydney vs Western Bulldogs (SCG)\n",
    "\n",
    "Result of **Sydney 1-39** with probability of **77.9%** <br>\n",
    "Look for markets offering a return greater than **$1.77**"
   ]
  },
  {
   "cell_type": "markdown",
   "id": "aec5db17",
   "metadata": {},
   "source": [
    "### Melbourne vs Brisbane Lions (MCG)\n",
    "\n",
    "Result of **Brisbane Lions 1-39** with probability of **95.5%** <br>\n",
    "Look for markets offering a return greater than **$1.45**"
   ]
  },
  {
   "cell_type": "markdown",
   "id": "c539ef1b",
   "metadata": {},
   "source": [
    "### Collingwood vs Fremantle (MCG)\n",
    "\n",
    "Result of **Collingwood 1-39** with probability of **99.5%** <br>\n",
    "Look for markets offering a return greater than **$1.39**"
   ]
  },
  {
   "cell_type": "markdown",
   "id": "7c1f739f",
   "metadata": {},
   "source": [
    "### Gold Coast vs St Kilda (Heritage Bank Stadium)\n",
    "\n",
    "Result of **St Kilda 1-39** with probability of **53.5%** <br>\n",
    "Look for markets offering a return greater than **$2.59**"
   ]
  },
  {
   "cell_type": "markdown",
   "id": "26dfbd5a",
   "metadata": {},
   "source": [
    "### Carlton vs Port Adelaide (Marvel)\n",
    "\n",
    "Result of **Port Adelaide 1-39** with probability of **56.8%** <br>\n",
    "Look for markets offering a return greater than **$2.43**"
   ]
  },
  {
   "cell_type": "markdown",
   "id": "96065f11",
   "metadata": {},
   "source": [
    "### Geelong vs Essendon (GMHBAl)\n",
    "\n",
    "Result of **Geelong 1-39** with probability of **73.3%** <br>\n",
    "Look for markets offering a return greater than **$1.89**"
   ]
  },
  {
   "cell_type": "markdown",
   "id": "0fc4d214",
   "metadata": {},
   "source": [
    "### Adelaide vs GWS (Adelaide Oval)\n",
    "\n",
    "Result of **Adelaide 1-39** with probability of **70.0%** <br>\n",
    "Look for markets offering a return greater than **$1.97**"
   ]
  },
  {
   "cell_type": "markdown",
   "id": "c1b29bad",
   "metadata": {},
   "source": [
    "### North Melbourne vs Hawthorn (Marvel)\n",
    "\n",
    "Result of **Hawthorn 1-39** with probability of **80.0%** <br>\n",
    "Look for markets offering a return greater than **$1.73**"
   ]
  },
  {
   "cell_type": "markdown",
   "id": "c55ddbe8",
   "metadata": {},
   "source": [
    "### West Coast vs Richmond (Optus)\n",
    "\n",
    "Result of **Richmond 40+** with probability of **97.9%** <br>\n",
    "Look for markets offering a return greater than **$1.41**"
   ]
  },
  {
   "cell_type": "markdown",
   "id": "9600dae6",
   "metadata": {},
   "source": [
    "## Round 17 <a class=\"anchor\" id=\"17\"></a>\n",
    "This weeks model accuracy based on model testing is **77.8%**"
   ]
  },
  {
   "cell_type": "markdown",
   "id": "f27872f1",
   "metadata": {},
   "source": [
    "### Richmond vs Sydney (MCG)\n",
    "\n",
    "Result of **Sydney 1-39** with probability of **62.7%** <br>\n",
    "Look for markets offering a return greater than **$2.05**"
   ]
  },
  {
   "cell_type": "markdown",
   "id": "ba12dd49",
   "metadata": {},
   "source": [
    "### Western Bulldogs vs Collingwood (Marvel)\n",
    "\n",
    "Result of **Collingwood 1-39** with probability of **52.6%** <br>\n",
    "Look for markets offering a return greater than **$2.45**"
   ]
  },
  {
   "cell_type": "markdown",
   "id": "73f57963",
   "metadata": {},
   "source": [
    "### Brisbane Lions vs West Coast (Gabba)\n",
    "\n",
    "Result of **Brisbane 40+** with probability of **99.8%** <br>\n",
    "Look for markets offering a return greater than **$1.29**"
   ]
  },
  {
   "cell_type": "markdown",
   "id": "27df71c2",
   "metadata": {},
   "source": [
    "### GWS vs Hawthorn (Giants Stadium)\n",
    "\n",
    "Result of **GWS 1-39** with probability of **99.7%** <br>\n",
    "Look for markets offering a return greater than **$1.29**"
   ]
  },
  {
   "cell_type": "markdown",
   "id": "0c4ccb43",
   "metadata": {},
   "source": [
    "### St Kilda vs Melbourne (Marvel)\n",
    "\n",
    "Result of **Melbourne 1-39** with probability of **64.7%** <br>\n",
    "Look for markets offering a return greater than **$1.99**"
   ]
  },
  {
   "cell_type": "markdown",
   "id": "a7158d9f",
   "metadata": {},
   "source": [
    "### Port Adelaide vs Gold Coast (Adelaide Oval)\n",
    "\n",
    "Result of **Port Adelaide 1-39** with probability of **97.5%** <br>\n",
    "Look for markets offering a return greater than **$1.32**"
   ]
  },
  {
   "cell_type": "markdown",
   "id": "9237ac2a",
   "metadata": {},
   "source": [
    "### Geelong vs North Melbourne (GMHBA)\n",
    "\n",
    "Result of **Geelong 1-39** with probability of **96.6%** <br>\n",
    "Look for markets offering a return greater than **$1.33**"
   ]
  },
  {
   "cell_type": "markdown",
   "id": "bfec4751",
   "metadata": {},
   "source": [
    "### Essendon vs Adelaide (Marvel)\n",
    "\n",
    "Result of **Adelaide 1-39** with probability of **93.9%** <br>\n",
    "Look for markets offering a return greater than **$1.37**"
   ]
  },
  {
   "cell_type": "markdown",
   "id": "827ee174",
   "metadata": {},
   "source": [
    "### Fremantle vs Carlton (Optus)\n",
    "\n",
    "Result of **Carlton 1-39** with probability of **88.8%** <br>\n",
    "Look for markets offering a return greater than **$1.45**"
   ]
  },
  {
   "cell_type": "markdown",
   "id": "787d4b53",
   "metadata": {},
   "source": [
    "## Round 16 <a class=\"anchor\" id=\"16\"></a>\n",
    "This weeks model accuracy based on model testing is **65.4%**"
   ]
  },
  {
   "cell_type": "markdown",
   "id": "e22820cd",
   "metadata": {},
   "source": [
    "### Brisbane vs Richmond (Gabba)\n",
    "\n",
    "Result of **Brisbane 1-39** with probability of **99.4%** <br>\n",
    "Look for markets offering a return greater than **$1.54**"
   ]
  },
  {
   "cell_type": "markdown",
   "id": "e2195522",
   "metadata": {},
   "source": [
    "### Sydney vs Geelong (SCG)\n",
    "\n",
    "Result of **Sydney 1-39** with probability of **99.6%** <br>\n",
    "Look for markets offering a return greater than **$1.54**"
   ]
  },
  {
   "cell_type": "markdown",
   "id": "89b17c51",
   "metadata": {},
   "source": [
    "### Adelaide vs North Melbourne (Adelaide Oval)\n",
    "\n",
    "Result of **Adelaide 1-39** with probability of **84.5%** <br>\n",
    "Look for markets offering a return greater than **$1.81**"
   ]
  },
  {
   "cell_type": "markdown",
   "id": "ba72ddda",
   "metadata": {},
   "source": [
    "### Western Bulldogs vs Fremantle (Marvel)\n",
    "\n",
    "Result of **Western Bulldogs 1-39** with probability of **95.7%** <br>\n",
    "Look for markets offering a return greater than **$1.60**"
   ]
  },
  {
   "cell_type": "markdown",
   "id": "fa56d2a7",
   "metadata": {},
   "source": [
    "### Gold Coast vs Collingwood (Heritage Bank)\n",
    "\n",
    "Result of **Gold Coast 1-39** with probability of **90.1%** <br>\n",
    "Look for markets offering a return greater than **$1.70**"
   ]
  },
  {
   "cell_type": "markdown",
   "id": "656ef634",
   "metadata": {},
   "source": [
    "### Essendon vs Port Adelaide (MCG)\n",
    "\n",
    "Result of **Port Adelaide 1-39** with probability of **86.3%** <br>\n",
    "Look for markets offering a return greater than **$1.76**"
   ]
  },
  {
   "cell_type": "markdown",
   "id": "317c05cf",
   "metadata": {},
   "source": [
    "### Hawthorn vs Carlton (MCG)\n",
    "\n",
    "Result of **Carlton 1-39** with probability of **85.1%** <br>\n",
    "Look for markets offering a return greater than **$1.80**"
   ]
  },
  {
   "cell_type": "markdown",
   "id": "eb743877",
   "metadata": {},
   "source": [
    "### Melbourne vs GWS (TIO Traeger)\n",
    "\n",
    "Result of **GWS 1-39** with probability of **64.4%** <br>\n",
    "Look for markets offering a return greater than **$2.37**"
   ]
  },
  {
   "cell_type": "markdown",
   "id": "9df2f6ba",
   "metadata": {},
   "source": [
    "### West Coast vs St Kilda (Optus)\n",
    "\n",
    "Result of **St Kilda 40+** with probability of **100%** <br>\n",
    "Look for markets offering a return greater than **$1.53**"
   ]
  },
  {
   "cell_type": "markdown",
   "id": "b6a748b3",
   "metadata": {},
   "source": [
    "## Round 15 <a class=\"anchor\" id=\"15\"></a>\n",
    "This weeks model accuracy based on model testing is **80.0%**"
   ]
  },
  {
   "cell_type": "markdown",
   "id": "09b95840",
   "metadata": {},
   "source": [
    "### Geelong vs Melbourne (GMHBA)\n",
    "\n",
    "Result of **Melbourne 1-39** with probability of **87.9%** <br>\n",
    "Look for markets offering a return greater than **$1.42**"
   ]
  },
  {
   "cell_type": "markdown",
   "id": "a9919da6",
   "metadata": {},
   "source": [
    "### St Kilda vs Brisbane (Marvel)\n",
    "\n",
    "Result of **Brisbane 1-39** with probability of **89.8%** <br>\n",
    "Look for markets offering a return greater than **$1.39**"
   ]
  },
  {
   "cell_type": "markdown",
   "id": "7fcd7809",
   "metadata": {},
   "source": [
    "### Sydney vs West Coast (SCG)\n",
    "\n",
    "Result of **Sydney 1-39** with probability of **98.2%** <br>\n",
    "Look for markets offering a return greater than **$1.27**"
   ]
  },
  {
   "cell_type": "markdown",
   "id": "6eedaf8f",
   "metadata": {},
   "source": [
    "### Fremantle vs Essendon (Optus)\n",
    "\n",
    "Result of **Essendon 1-39** with probability of **95.0%** <br>\n",
    "Look for markets offering a return greater than **$1.32**"
   ]
  },
  {
   "cell_type": "markdown",
   "id": "8ce444fb",
   "metadata": {},
   "source": [
    "### Collingwood vs Adelaide (MCG)\n",
    "\n",
    "Result of **Adelaide 1-39** with probability of **84.6%** <br>\n",
    "Look for markets offering a return greater than **$1.48**"
   ]
  },
  {
   "cell_type": "markdown",
   "id": "adb6c1f8",
   "metadata": {},
   "source": [
    "### Gold Coast vs Hawthorn (Heritage Bank)\n",
    "\n",
    "Result of **Hawthorn 1-39** with probability of **60.8%** <br>\n",
    "Look for markets offering a return greater than **$2.06**"
   ]
  }
 ],
 "metadata": {
  "kernelspec": {
   "display_name": "Python 3 (ipykernel)",
   "language": "python",
   "name": "python3"
  },
  "language_info": {
   "codemirror_mode": {
    "name": "ipython",
    "version": 3
   },
   "file_extension": ".py",
   "mimetype": "text/x-python",
   "name": "python",
   "nbconvert_exporter": "python",
   "pygments_lexer": "ipython3",
   "version": "3.8.13"
  },
  "varInspector": {
   "cols": {
    "lenName": 16,
    "lenType": 16,
    "lenVar": 40
   },
   "kernels_config": {
    "python": {
     "delete_cmd_postfix": "",
     "delete_cmd_prefix": "del ",
     "library": "var_list.py",
     "varRefreshCmd": "print(var_dic_list())"
    },
    "r": {
     "delete_cmd_postfix": ") ",
     "delete_cmd_prefix": "rm(",
     "library": "var_list.r",
     "varRefreshCmd": "cat(var_dic_list()) "
    }
   },
   "types_to_exclude": [
    "module",
    "function",
    "builtin_function_or_method",
    "instance",
    "_Feature"
   ],
   "window_display": false
  }
 },
 "nbformat": 4,
 "nbformat_minor": 5
}
