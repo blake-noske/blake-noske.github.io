{
 "cells": [
  {
   "cell_type": "code",
   "execution_count": 34,
   "id": "c94ee88f-9f9e-4db8-b93b-de13844ef494",
   "metadata": {},
   "outputs": [],
   "source": [
    "import pandas as pd\n",
    "import os\n",
    "from sklearn.metrics import confusion_matrix, accuracy_score"
   ]
  },
  {
   "cell_type": "code",
   "execution_count": 2,
   "id": "e2e76177-7b7b-4fed-a470-0cea5085b4bf",
   "metadata": {},
   "outputs": [],
   "source": [
    "predictions = pd.DataFrame()\n",
    "for i in range(5,25):\n",
    "    r = pd.read_excel(f\"2024 ensemble testing Round {i}.xlsx\",header=0)\n",
    "    predictions = pd.concat([predictions, r])"
   ]
  },
  {
   "cell_type": "code",
   "execution_count": 4,
   "id": "01fb4609-6c40-4be6-b43a-b57431af50fa",
   "metadata": {},
   "outputs": [],
   "source": [
    "f = (\"Finals Week 1\",\"Semi Finals\",\"Preliminary Finals\",\"Grand Final\")\n",
    "for i in f:\n",
    "    r = pd.read_excel(f\"2024 ensemble testing {i}.xlsx\",header=0)\n",
    "    predictions = pd.concat([predictions, r])"
   ]
  },
  {
   "cell_type": "code",
   "execution_count": 5,
   "id": "0c537e4a-e10f-4fd2-b229-ee9d922b508e",
   "metadata": {},
   "outputs": [],
   "source": [
    "predictions = predictions.reset_index(drop=True)\n",
    "predictions.columns = ['Predictions']"
   ]
  },
  {
   "cell_type": "code",
   "execution_count": 16,
   "id": "cded3642-7f52-4c47-b2eb-63510bce540d",
   "metadata": {},
   "outputs": [],
   "source": [
    "os.chdir(\"C:\\\\Users\\\\blake\\\\Desktop\\\\AFL Odds\\\\Testing and Analysis\")\n",
    "actual = pd.read_csv(\"2024 actual results.csv\",index_col=0)\n",
    "actual = actual.reset_index(drop=True)"
   ]
  },
  {
   "cell_type": "code",
   "execution_count": 30,
   "id": "f6415558-640a-4bf2-a449-8fc34a5367e5",
   "metadata": {},
   "outputs": [],
   "source": [
    "cm = confusion_matrix(actual, predictions)\n",
    "class_labels = ['BL', 'BW', 'D', 'LL', 'LW']"
   ]
  },
  {
   "cell_type": "code",
   "execution_count": 31,
   "id": "2f76d2cd-1501-450a-9490-b387ddb47827",
   "metadata": {},
   "outputs": [],
   "source": [
    "cm_df = pd.DataFrame(cm, index=class_labels, columns=class_labels)"
   ]
  },
  {
   "cell_type": "code",
   "execution_count": 32,
   "id": "5efd99ef-51d0-4946-babc-2a8e3f7b7fb4",
   "metadata": {},
   "outputs": [
    {
     "data": {
      "text/html": [
       "<div>\n",
       "<style scoped>\n",
       "    .dataframe tbody tr th:only-of-type {\n",
       "        vertical-align: middle;\n",
       "    }\n",
       "\n",
       "    .dataframe tbody tr th {\n",
       "        vertical-align: top;\n",
       "    }\n",
       "\n",
       "    .dataframe thead th {\n",
       "        text-align: right;\n",
       "    }\n",
       "</style>\n",
       "<table border=\"1\" class=\"dataframe\">\n",
       "  <thead>\n",
       "    <tr style=\"text-align: right;\">\n",
       "      <th></th>\n",
       "      <th>BL</th>\n",
       "      <th>BW</th>\n",
       "      <th>D</th>\n",
       "      <th>LL</th>\n",
       "      <th>LW</th>\n",
       "    </tr>\n",
       "  </thead>\n",
       "  <tbody>\n",
       "    <tr>\n",
       "      <th>BL</th>\n",
       "      <td>0</td>\n",
       "      <td>0</td>\n",
       "      <td>0</td>\n",
       "      <td>13</td>\n",
       "      <td>14</td>\n",
       "    </tr>\n",
       "    <tr>\n",
       "      <th>BW</th>\n",
       "      <td>1</td>\n",
       "      <td>3</td>\n",
       "      <td>0</td>\n",
       "      <td>6</td>\n",
       "      <td>21</td>\n",
       "    </tr>\n",
       "    <tr>\n",
       "      <th>D</th>\n",
       "      <td>0</td>\n",
       "      <td>0</td>\n",
       "      <td>0</td>\n",
       "      <td>0</td>\n",
       "      <td>3</td>\n",
       "    </tr>\n",
       "    <tr>\n",
       "      <th>LL</th>\n",
       "      <td>1</td>\n",
       "      <td>0</td>\n",
       "      <td>0</td>\n",
       "      <td>16</td>\n",
       "      <td>29</td>\n",
       "    </tr>\n",
       "    <tr>\n",
       "      <th>LW</th>\n",
       "      <td>0</td>\n",
       "      <td>2</td>\n",
       "      <td>0</td>\n",
       "      <td>36</td>\n",
       "      <td>33</td>\n",
       "    </tr>\n",
       "  </tbody>\n",
       "</table>\n",
       "</div>"
      ],
      "text/plain": [
       "    BL  BW  D  LL  LW\n",
       "BL   0   0  0  13  14\n",
       "BW   1   3  0   6  21\n",
       "D    0   0  0   0   3\n",
       "LL   1   0  0  16  29\n",
       "LW   0   2  0  36  33"
      ]
     },
     "execution_count": 32,
     "metadata": {},
     "output_type": "execute_result"
    }
   ],
   "source": [
    "cm_df"
   ]
  },
  {
   "cell_type": "code",
   "execution_count": 36,
   "id": "f191bc4b-ef93-4e76-9c13-3518e290ab90",
   "metadata": {},
   "outputs": [
    {
     "name": "stdout",
     "output_type": "stream",
     "text": [
      "Accuracy: 29.21%\n"
     ]
    }
   ],
   "source": [
    "accuracy = accuracy_score(actual, predictions)\n",
    "print(f\"Accuracy: {accuracy:.2%}\")"
   ]
  }
 ],
 "metadata": {
  "kernelspec": {
   "display_name": "Python 3 (ipykernel)",
   "language": "python",
   "name": "python3"
  },
  "language_info": {
   "codemirror_mode": {
    "name": "ipython",
    "version": 3
   },
   "file_extension": ".py",
   "mimetype": "text/x-python",
   "name": "python",
   "nbconvert_exporter": "python",
   "pygments_lexer": "ipython3",
   "version": "3.10.14"
  },
  "widgets": {
   "application/vnd.jupyter.widget-state+json": {
    "state": {},
    "version_major": 2,
    "version_minor": 0
   }
  }
 },
 "nbformat": 4,
 "nbformat_minor": 5
}
